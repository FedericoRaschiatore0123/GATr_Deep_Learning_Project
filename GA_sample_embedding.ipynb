{
  "nbformat": 4,
  "nbformat_minor": 0,
  "metadata": {
    "colab": {
      "provenance": [],
      "include_colab_link": true
    },
    "kernelspec": {
      "name": "python3",
      "display_name": "Python 3"
    },
    "language_info": {
      "name": "python"
    }
  },
  "cells": [
    {
      "cell_type": "markdown",
      "metadata": {
        "id": "view-in-github",
        "colab_type": "text"
      },
      "source": [
        "<a href=\"https://colab.research.google.com/github/FedericoRaschiatore0123/GATr_Deep_Learning_Project/blob/main/GA_sample_embedding.ipynb\" target=\"_parent\"><img src=\"https://colab.research.google.com/assets/colab-badge.svg\" alt=\"Open In Colab\"/></a>"
      ]
    },
    {
      "cell_type": "code",
      "execution_count": 1,
      "metadata": {
        "id": "kzmo6UGthpRf"
      },
      "outputs": [],
      "source": [
        "import torch\n",
        "import numpy as np\n",
        "import h5py\n",
        "import os\n",
        "import pandas as pd\n",
        "import seaborn as sns"
      ]
    },
    {
      "cell_type": "code",
      "source": [
        "# create a dictionary of global variables\n",
        "global_variables = {\n",
        "\n",
        "    'dim_GA': 16\n",
        "}"
      ],
      "metadata": {
        "id": "CbnoAp1SixuX"
      },
      "execution_count": 2,
      "outputs": []
    },
    {
      "cell_type": "markdown",
      "source": [
        "### Geometric Algebra Embedding\n",
        "\n",
        "Geometric algebra G_{3,0,1} is characterized by 4 basic elements (e_{0}, e_{1}, e_{2}, e_{3}) that represent planes in the 3D space. These 4 basic elements can be combined through linear combination and geometric transformation to represent geometric objects of different dimensions (planes, lines, points), and transformations of different types (reflections, translations, rotations).\n",
        "\n",
        "G_{3,0,1} indicates that the basis is composed by three elements (e_{1}, e_{2}, e_{3}) that satisfy e_{i}e_{i} = 1 and one (e_{0}) that satisfies e_{0}e_{0} = 0.\n",
        "\n",
        "The basis components of the multivector associated to the G_{3,0,1} algebra are obtained by considering every possible multiplicative combination of the basis elements. Elements of different grade are thus obtained:\n",
        "\n",
        "Grade 0 (1): scalars in the G.A. \\\\\n",
        "Grade 1 (e_{0}, e_{i}): vectors in the G.A. \\\\\n",
        "Grade 2 (e_{0i}, e_{ij}); bivectors in the G.A. \\\\\n",
        "Grade 3 (e_{0ij}, e_{ijk}): trivectors in the G.A. \\\\\n",
        "Grade 4 (e_{0123}): pseudoscalars in the G.A. \\\\\n",
        "\n",
        "The multivector representation associated to the Geometric Algebra G_{3,0,1} will thus be composed of a total of 16 elements.\n",
        "\n",
        "Scalars will be represented by grade 0 elements, planes by grade 1 elements, lines by grade 2 elements, points by grade 3 elements and pseudoscalar by grade 4 elements."
      ],
      "metadata": {
        "id": "utHHBu-PoH-C"
      }
    },
    {
      "cell_type": "code",
      "source": [
        "def embed_pos_mv_16(pos):\n",
        "    \"\"\"\n",
        "    Embeds points in 3D space into multivectors of dimension 16 using an alternative approach.\n",
        "\n",
        "    Args:\n",
        "        pos (torch.Tensor): tensor of input points with shape (n_elements, 3)\n",
        "\n",
        "    Returns:\n",
        "        mv torch.Tensor: tensor of multivectors of dimension 16 with shape (1, n_elements, 1, 16)\n",
        "    \"\"\"\n",
        "    # Positions in Euclidean geometry can be embedded as points in G_{3,0,1} algebra\n",
        "\n",
        "    # Get the number of points and the dimensionality\n",
        "    n_elements = pos.shape[0]\n",
        "    dim = pos.shape[1]\n",
        "\n",
        "    # Create multivector tensor\n",
        "    multivector = torch.zeros(n_elements, global_variables['dim_GA'])\n",
        "\n",
        "    multivector[:, 14] = 1 # homogeneous component, e_{123}\n",
        "    multivector[:, 11] = pos[:, 0] # x, e_{023}\n",
        "    multivector[:, 12] = pos[:, 1] # y, e_{013}\n",
        "    multivector[:, 13] = pos[:, 2] # z, e_{012}\n",
        "\n",
        "    mv = multivector.reshape(1,n_elements,1,global_variables['dim_GA'])\n",
        "\n",
        "    return mv\n",
        "\n",
        "\n",
        "# ???: question about sign convention\n",
        "# the choice of the sign allow to give the correct geometric interpretation\n",
        "#       to the components. Important to have the convention be consistent\n",
        "#       for the whole embedding"
      ],
      "metadata": {
        "id": "qzONXL64kU3D"
      },
      "execution_count": null,
      "outputs": []
    },
    {
      "cell_type": "code",
      "source": [
        "# check function!\n",
        "pts = [[1, 2, 3], [4, 5, 6], [7, 8, 9], [10, 11, 12], [13, 14, 15],\n",
        "             [16, 17, 18], [19, 20, 21], [22, 23, 24], [25, 26, 27], [28, 29, 30]]\n",
        "pts_tensor = torch.tensor(pts)\n",
        "\n",
        "rows = pts_tensor.shape[0]\n",
        "cols = pts_tensor.shape[1]\n",
        "print(rows)\n",
        "print(cols)\n",
        "#mv = embed_pos_mv_16(pts_tensor)\n",
        "#print(mv) # ok!"
      ],
      "metadata": {
        "colab": {
          "base_uri": "https://localhost:8080/"
        },
        "id": "-0aIiU9fkV41",
        "outputId": "bc3b8c24-000f-4030-d97a-15c1098775eb"
      },
      "execution_count": 3,
      "outputs": [
        {
          "output_type": "stream",
          "name": "stdout",
          "text": [
            "10\n",
            "3\n"
          ]
        }
      ]
    },
    {
      "cell_type": "code",
      "source": [
        "def embed_face_mv_16(face):\n",
        "    \"\"\"\n",
        "    Embeds the faces into multivectors of dimension 16\n",
        "\n",
        "    Input:\n",
        "        face torch.Tensor of size (n_elements, 3)\n",
        "    Output:\n",
        "        mv torch.Tensor of size (1, n_elements, 1, 16)\n",
        "    \"\"\"\n",
        "\n",
        "    # An oriented surface in Euclidean geometry characterized by\n",
        "    #   the normal vector n to the surface itself can be embedded as an oriented\n",
        "    #   plane in G_{3,0,1} algebra\n",
        "\n",
        "\n",
        "    # Get the number of points and the dimensionality of the space\n",
        "    n_elements = face.shape[0]\n",
        "    dim = face.shape[1]\n",
        "\n",
        "    # Create multivector tensor\n",
        "    multivector = torch.zeros(n_elements, global_variables['dim_GA'])\n",
        "\n",
        "    multivector[:, 2] = face[:, 0] # e_{1}\n",
        "    multivector[:, 3] = face[:, 1] # e_{2}\n",
        "    multivector[:, 4] = face[:, 2] # e_{3}\n",
        "\n",
        "    mv = multivector.reshape(1,n_elements,1,global_variables['dim_GA'])\n",
        "\n",
        "    return mv"
      ],
      "metadata": {
        "id": "wWOSDYn0kiHL"
      },
      "execution_count": null,
      "outputs": []
    },
    {
      "cell_type": "code",
      "source": [
        "def embed_wss_mv_16(wss):\n",
        "    \"\"\"\n",
        "    Embeds the wss vectors as a 16 dimensional multivector\n",
        "    Input:\n",
        "      wss torch.Tensor of size (n_elements, 3)\n",
        "    Output:\n",
        "      mv torch.Tensor of size (1, n_elements, 1, 16)\n",
        "    \"\"\"\n",
        "\n",
        "    # A 3D vector in the Euclidean space can be embedded as a translation in G_{3,0,1} algebra\n",
        "\n",
        "    n_elements = wss.shape[0]\n",
        "    dim = wss.shape[1]\n",
        "\n",
        "    multivector = torch.zeros(n_elements, global_variables['dim_GA'])\n",
        "\n",
        "    multivector[:, 0] = 1\n",
        "    multivector[:, 5] = 0.5*wss[:, 0] # e_{01}\n",
        "    multivector[:, 6] = 0.5*wss[:, 1] # e_{02}\n",
        "    multivector[:, 7] = 0.5*wss[:, 2] # e_{03}\n",
        "\n",
        "    mv = multivector.reshape(1,n_elements,1,global_variables['dim_GA'])\n",
        "\n",
        "    return mv"
      ],
      "metadata": {
        "id": "ZU50dY0jkjOL"
      },
      "execution_count": null,
      "outputs": []
    },
    {
      "cell_type": "code",
      "source": [
        "def embed_inlet_mv_16(inlet):\n",
        "    \"\"\"\n",
        "    Embed the inlet torch tensor as a 16 dimensional multivector\n",
        "    Input:\n",
        "        inlet torch.Tensor of size (n_elements, 1)\n",
        "    Output:\n",
        "        mv torch.Tensor of size (1, n_elements, 1, 16)\n",
        "    \"\"\"\n",
        "    # Inlet indexes can be embedded as scalars in G_{3,0,1} algebra\n",
        "\n",
        "    n_elements = inlet.shape[0]\n",
        "\n",
        "    multivector = torch.zeros(n_elements, global_variables['dim_GA'])\n",
        "    multivector[:, 0] = inlet[:,0]\n",
        "\n",
        "    mv = multivector.reshape(1, n_elements, 1, global_variables['dim_GA'])\n",
        "\n",
        "    return mv"
      ],
      "metadata": {
        "id": "G75y3a4wknYV"
      },
      "execution_count": null,
      "outputs": []
    }
  ]
}